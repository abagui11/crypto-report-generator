{
 "cells": [
  {
   "cell_type": "markdown",
   "metadata": {
    "id": "pL5ktW0Fu9uG"
   },
   "source": [
    "# Twitter Scraper"
   ]
  },
  {
   "cell_type": "code",
   "execution_count": 1,
   "metadata": {
    "executionInfo": {
     "elapsed": 6,
     "status": "ok",
     "timestamp": 1639859292522,
     "user": {
      "displayName": "Arpan Bagui",
      "photoUrl": "https://lh3.googleusercontent.com/a-/AOh14Gi8kzpUV3BQIzEy61nHmsCHiRfWP2fLBbDlEDK5=s64",
      "userId": "17819662298955037014"
     },
     "user_tz": 300
    },
    "id": "Wpi8bgMdVCBh"
   },
   "outputs": [],
   "source": [
    "# Import packages\n",
    "import tweepy\n",
    "import pandas as pd\n",
    "import datetime as dt"
   ]
  },
  {
   "cell_type": "code",
   "execution_count": 2,
   "metadata": {
    "executionInfo": {
     "elapsed": 5,
     "status": "ok",
     "timestamp": 1639859292522,
     "user": {
      "displayName": "Arpan Bagui",
      "photoUrl": "https://lh3.googleusercontent.com/a-/AOh14Gi8kzpUV3BQIzEy61nHmsCHiRfWP2fLBbDlEDK5=s64",
      "userId": "17819662298955037014"
     },
     "user_tz": 300
    },
    "id": "dioAORRCVIMJ"
   },
   "outputs": [],
   "source": [
    "# Access Twitter API\n",
    "CONSUMER_KEY = 'PqIOkmsFKDc8lIoSaDGf0Kcr0'\n",
    "CONSUMER_SECRET = '50kaIGjkmKSSFTKoFtte8j6vbR0CX7KPUDqB4oRhpW0k7zPuY4'\n",
    "ACCESS_TOKEN = '1347086178365829123-nDPxqMJfjuf9qgVqOUQ8A8LsfZw7pD'\n",
    "ACCESS_TOKEN_SECRET = 'gT0tbfA9Ca97GbyAwODU8W453sSxLPpNwv800PFpvnXYo'\n",
    "# Bearer Token = 'AAAAAAAAAAAAAAAAAAAAAPA%2BMwEAAAAAYYSYRh%2B8n9rbJaxva3Y%2FWqtOidU%3D5wukphfJfVhYaxG6HYIPF7nbEI0f5ShwXgs3U8ccIhTC16rSxL'\n",
    "\n",
    "auth = tweepy.OAuthHandler(CONSUMER_KEY, CONSUMER_SECRET)\n",
    "auth.set_access_token(ACCESS_TOKEN, ACCESS_TOKEN_SECRET)\n",
    "\n",
    "api = tweepy.API(auth, wait_on_rate_limit=True)"
   ]
  },
  {
   "cell_type": "markdown",
   "metadata": {
    "id": "Q_G0JH1KVRFd"
   },
   "source": [
    "### Scrape by Search Term"
   ]
  },
  {
   "cell_type": "code",
   "execution_count": 3,
   "metadata": {
    "executionInfo": {
     "elapsed": 5,
     "status": "ok",
     "timestamp": 1639859292523,
     "user": {
      "displayName": "Arpan Bagui",
      "photoUrl": "https://lh3.googleusercontent.com/a-/AOh14Gi8kzpUV3BQIzEy61nHmsCHiRfWP2fLBbDlEDK5=s64",
      "userId": "17819662298955037014"
     },
     "user_tz": 300
    },
    "id": "Bl0k7YOJVPsM"
   },
   "outputs": [],
   "source": [
    "# Function to scrape twitter\n",
    "def scrape_twitter(search_word, num_tweets):\n",
    "    \n",
    "  # Scrape tweets\n",
    "  tweets = tweepy.Cursor(api.search,\n",
    "                          q=search_word + \" -filter:retweets\",\n",
    "                          wait_on_rate_limit = True,\n",
    "                          wait_on_rate_limit_notify = True,\n",
    "                          lang=\"en\",\n",
    "                          count=num_tweets,\n",
    "                          since=dt.date.today()).items()\n",
    "\n",
    "  # Post data dictionary\n",
    "  post_dict = {\n",
    "      \n",
    "    \"timestamp_scrape\" : [],  # timestamp of the scrape\n",
    "    \"date_scrape\" : [],       # date of the scrape\n",
    "    \"timestamp_tweet\" : [],   # timestamp of the tweet\n",
    "    \"search_word\": [],        # requested query \n",
    "    \"tweet_id\" : [],          # id of tweet\n",
    "    \"user_name\": [],          # name of user who tweeted\n",
    "    \"user_location\": [],      # location of user \n",
    "    \"text\" : [],              # text of the tweet\n",
    "    \"retweet_count\": [],      # number of retweets\n",
    "    \"favorite_count\": []      # number of likes\n",
    "  }\n",
    "\n",
    "  # Collect a list of tweets\n",
    "  for tweet in tweets:\n",
    "    post_dict['timestamp_scrape'].append(pd.to_datetime(\"now\"))\n",
    "    post_dict['date_scrape'].append(dt.date.today())\n",
    "    post_dict[\"timestamp_tweet\"].append(tweet.created_at)\n",
    "    post_dict[\"search_word\"].append(search_word)\n",
    "    post_dict[\"tweet_id\"].append(tweet.id)    \n",
    "    post_dict[\"user_name\"].append(tweet.user.screen_name)       \n",
    "    post_dict[\"user_location\"].append(tweet.user.location)   \n",
    "    post_dict[\"text\"].append(tweet.text)\n",
    "    post_dict[\"retweet_count\"].append(tweet.retweet_count)\n",
    "    post_dict[\"favorite_count\"].append(tweet.favorite_count)\n",
    "\n",
    "  twitter_data = pd.DataFrame(post_dict)\n",
    "  return twitter_data"
   ]
  },
  {
   "cell_type": "code",
   "execution_count": 4,
   "metadata": {
    "colab": {
     "base_uri": "https://localhost:8080/",
     "height": 392
    },
    "executionInfo": {
     "elapsed": 1251355,
     "status": "error",
     "timestamp": 1639860548011,
     "user": {
      "displayName": "Arpan Bagui",
      "photoUrl": "https://lh3.googleusercontent.com/a-/AOh14Gi8kzpUV3BQIzEy61nHmsCHiRfWP2fLBbDlEDK5=s64",
      "userId": "17819662298955037014"
     },
     "user_tz": 300
    },
    "id": "PMUlzhEUVZ9C",
    "outputId": "19472353-4765-4188-98ea-46a1fc24d56f"
   },
   "outputs": [
    {
     "ename": "AttributeError",
     "evalue": "'API' object has no attribute 'search'",
     "output_type": "error",
     "traceback": [
      "\u001b[0;31m---------------------------------------------------------------------------\u001b[0m",
      "\u001b[0;31mAttributeError\u001b[0m                            Traceback (most recent call last)",
      "\u001b[0;32m<ipython-input-4-12fa8ddae87a>\u001b[0m in \u001b[0;36m<module>\u001b[0;34m\u001b[0m\n\u001b[1;32m      4\u001b[0m \u001b[0mnum_tweets\u001b[0m \u001b[0;34m=\u001b[0m \u001b[0;36m50\u001b[0m\u001b[0;34m\u001b[0m\u001b[0;34m\u001b[0m\u001b[0m\n\u001b[1;32m      5\u001b[0m \u001b[0;34m\u001b[0m\u001b[0m\n\u001b[0;32m----> 6\u001b[0;31m \u001b[0mtest_df\u001b[0m \u001b[0;34m=\u001b[0m \u001b[0mscrape_twitter\u001b[0m\u001b[0;34m(\u001b[0m\u001b[0msearch_word\u001b[0m\u001b[0;34m,\u001b[0m \u001b[0mnum_tweets\u001b[0m\u001b[0;34m)\u001b[0m\u001b[0;34m\u001b[0m\u001b[0;34m\u001b[0m\u001b[0m\n\u001b[0m\u001b[1;32m      7\u001b[0m \u001b[0mprint\u001b[0m\u001b[0;34m(\u001b[0m\u001b[0mtest_df\u001b[0m\u001b[0;34m.\u001b[0m\u001b[0mshape\u001b[0m\u001b[0;34m)\u001b[0m\u001b[0;34m\u001b[0m\u001b[0;34m\u001b[0m\u001b[0m\n",
      "\u001b[0;32m<ipython-input-3-8d83adfd84e4>\u001b[0m in \u001b[0;36mscrape_twitter\u001b[0;34m(search_word, num_tweets)\u001b[0m\n\u001b[1;32m      3\u001b[0m \u001b[0;34m\u001b[0m\u001b[0m\n\u001b[1;32m      4\u001b[0m   \u001b[0;31m# Scrape tweets\u001b[0m\u001b[0;34m\u001b[0m\u001b[0;34m\u001b[0m\u001b[0;34m\u001b[0m\u001b[0m\n\u001b[0;32m----> 5\u001b[0;31m   tweets = tweepy.Cursor(api.search,\n\u001b[0m\u001b[1;32m      6\u001b[0m                           \u001b[0mq\u001b[0m\u001b[0;34m=\u001b[0m\u001b[0msearch_word\u001b[0m \u001b[0;34m+\u001b[0m \u001b[0;34m\" -filter:retweets\"\u001b[0m\u001b[0;34m,\u001b[0m\u001b[0;34m\u001b[0m\u001b[0;34m\u001b[0m\u001b[0m\n\u001b[1;32m      7\u001b[0m                           \u001b[0mwait_on_rate_limit\u001b[0m \u001b[0;34m=\u001b[0m \u001b[0;32mTrue\u001b[0m\u001b[0;34m,\u001b[0m\u001b[0;34m\u001b[0m\u001b[0;34m\u001b[0m\u001b[0m\n",
      "\u001b[0;31mAttributeError\u001b[0m: 'API' object has no attribute 'search'"
     ]
    }
   ],
   "source": [
    "# Sample query\n",
    "search_word = 'bitcoin'\n",
    "date_today = dt.date.today()\n",
    "num_tweets = 50\n",
    "\n",
    "test_df = scrape_twitter(search_word, num_tweets)\n",
    "print(test_df.shape)"
   ]
  },
  {
   "cell_type": "markdown",
   "metadata": {
    "id": "v6NmFytEVfMR"
   },
   "source": [
    "### Scrape by User Account"
   ]
  },
  {
   "cell_type": "code",
   "execution_count": 5,
   "metadata": {
    "id": "5BMVaXF3VhcZ"
   },
   "outputs": [],
   "source": [
    "def scrape_user_tweets(screen_name_list, num_tweets):\n",
    "    \n",
    "  # Post data dictionary\n",
    "  post_dict = {\n",
    "    \"timestamp_scrape\" : [],  # timestamp of the scrape\n",
    "    \"date_scrape\" : [],       # date of the scrape       \n",
    "    \"timestamp_tweet\" : [],   # timestamp of the tweet\n",
    "    \"tweet_id\" : [],          # id of tweet\n",
    "    \"user_name\": [],          # name of user who tweeted\n",
    "    \"user_location\": [],      # location of user \n",
    "    \"text\" : [],              # text of the tweet\n",
    "    \"retweet_count\": [],      # number of retweets\n",
    "    \"favorite_count\": [],     # number of likes\n",
    "    \"account_followers\": []   # number of account followers\n",
    "  }\n",
    "  \n",
    "  for user in screen_name_list:\n",
    "      \n",
    "    for page_num in range(5):\n",
    "      \n",
    "      # Scrape tweets\n",
    "      user_tweets = api.user_timeline(screen_name=user,\n",
    "                                      page=page_num+1, \n",
    "                                      include_rts = False,\n",
    "                                      wait_on_rate_limit = True, \n",
    "                                      wait_on_rate_limit_notify = True)\n",
    "\n",
    "      # Collect a list of tweets\n",
    "      for tweet in user_tweets:\n",
    "        post_dict['timestamp_scrape'].append(pd.to_datetime(\"now\"))\n",
    "        post_dict['date_scrape'].append(dt.date.today())\n",
    "        post_dict[\"timestamp_tweet\"].append(tweet.created_at)\n",
    "        post_dict[\"tweet_id\"].append(tweet.id)    \n",
    "        post_dict[\"user_name\"].append(tweet.user.screen_name)       \n",
    "        post_dict[\"user_location\"].append(tweet.user.location)   \n",
    "        post_dict[\"text\"].append(tweet.text)\n",
    "        post_dict[\"retweet_count\"].append(tweet.retweet_count)\n",
    "        post_dict[\"favorite_count\"].append(tweet.favorite_count)\n",
    "\n",
    "        account = api.get_user(user)\n",
    "        post_dict[\"account_followers\"].append(account.followers_count)\n",
    "\n",
    "    twitter_data = pd.DataFrame(post_dict)\n",
    "    \n",
    "    twitter_data = twitter_data.groupby('user_name').apply(lambda x: x.sort_values(['timestamp_tweet'], ascending=False).head(num_tweets))\n",
    "    twitter_data.reset_index(drop=True, inplace=True)\n",
    "\n",
    "  return twitter_data"
   ]
  },
  {
   "cell_type": "code",
   "execution_count": 6,
   "metadata": {
    "colab": {
     "base_uri": "https://localhost:8080/",
     "height": 1000
    },
    "executionInfo": {
     "elapsed": 110295,
     "status": "ok",
     "timestamp": 1614120104038,
     "user": {
      "displayName": "Aman Sharma",
      "photoUrl": "",
      "userId": "18377318723544334436"
     },
     "user_tz": 300
    },
    "id": "q1RwpmbvZgSn",
    "outputId": "6f8f9a0c-35da-43fa-d453-8c1deb874406"
   },
   "outputs": [
    {
     "name": "stderr",
     "output_type": "stream",
     "text": [
      "Unexpected parameter: page\n",
      "Unexpected parameter: wait_on_rate_limit\n",
      "Unexpected parameter: wait_on_rate_limit_notify\n"
     ]
    },
    {
     "ename": "TypeError",
     "evalue": "get_user() takes 1 positional argument but 2 were given",
     "output_type": "error",
     "traceback": [
      "\u001b[0;31m---------------------------------------------------------------------------\u001b[0m",
      "\u001b[0;31mTypeError\u001b[0m                                 Traceback (most recent call last)",
      "\u001b[0;32m<ipython-input-6-825a234e6368>\u001b[0m in \u001b[0;36m<module>\u001b[0;34m\u001b[0m\n\u001b[1;32m      3\u001b[0m \u001b[0mnum_tweets\u001b[0m \u001b[0;34m=\u001b[0m \u001b[0;36m10\u001b[0m\u001b[0;34m\u001b[0m\u001b[0;34m\u001b[0m\u001b[0m\n\u001b[1;32m      4\u001b[0m \u001b[0;34m\u001b[0m\u001b[0m\n\u001b[0;32m----> 5\u001b[0;31m \u001b[0mtest_df\u001b[0m \u001b[0;34m=\u001b[0m \u001b[0mscrape_user_tweets\u001b[0m\u001b[0;34m(\u001b[0m\u001b[0mscreen_name_list\u001b[0m\u001b[0;34m,\u001b[0m \u001b[0mnum_tweets\u001b[0m\u001b[0;34m)\u001b[0m\u001b[0;34m\u001b[0m\u001b[0;34m\u001b[0m\u001b[0m\n\u001b[0m\u001b[1;32m      6\u001b[0m \u001b[0mprint\u001b[0m\u001b[0;34m(\u001b[0m\u001b[0mtest_df\u001b[0m\u001b[0;34m.\u001b[0m\u001b[0mshape\u001b[0m\u001b[0;34m)\u001b[0m\u001b[0;34m\u001b[0m\u001b[0;34m\u001b[0m\u001b[0m\n\u001b[1;32m      7\u001b[0m \u001b[0mprint\u001b[0m\u001b[0;34m(\u001b[0m\u001b[0mtest_df\u001b[0m\u001b[0;34m.\u001b[0m\u001b[0muser_name\u001b[0m\u001b[0;34m.\u001b[0m\u001b[0mvalue_counts\u001b[0m\u001b[0;34m(\u001b[0m\u001b[0;34m)\u001b[0m\u001b[0;34m)\u001b[0m\u001b[0;34m\u001b[0m\u001b[0;34m\u001b[0m\u001b[0m\n",
      "\u001b[0;32m<ipython-input-5-58d3ad08440c>\u001b[0m in \u001b[0;36mscrape_user_tweets\u001b[0;34m(screen_name_list, num_tweets)\u001b[0m\n\u001b[1;32m     38\u001b[0m         \u001b[0mpost_dict\u001b[0m\u001b[0;34m[\u001b[0m\u001b[0;34m\"favorite_count\"\u001b[0m\u001b[0;34m]\u001b[0m\u001b[0;34m.\u001b[0m\u001b[0mappend\u001b[0m\u001b[0;34m(\u001b[0m\u001b[0mtweet\u001b[0m\u001b[0;34m.\u001b[0m\u001b[0mfavorite_count\u001b[0m\u001b[0;34m)\u001b[0m\u001b[0;34m\u001b[0m\u001b[0;34m\u001b[0m\u001b[0m\n\u001b[1;32m     39\u001b[0m \u001b[0;34m\u001b[0m\u001b[0m\n\u001b[0;32m---> 40\u001b[0;31m         \u001b[0maccount\u001b[0m \u001b[0;34m=\u001b[0m \u001b[0mapi\u001b[0m\u001b[0;34m.\u001b[0m\u001b[0mget_user\u001b[0m\u001b[0;34m(\u001b[0m\u001b[0muser\u001b[0m\u001b[0;34m)\u001b[0m\u001b[0;34m\u001b[0m\u001b[0;34m\u001b[0m\u001b[0m\n\u001b[0m\u001b[1;32m     41\u001b[0m         \u001b[0mpost_dict\u001b[0m\u001b[0;34m[\u001b[0m\u001b[0;34m\"account_followers\"\u001b[0m\u001b[0;34m]\u001b[0m\u001b[0;34m.\u001b[0m\u001b[0mappend\u001b[0m\u001b[0;34m(\u001b[0m\u001b[0maccount\u001b[0m\u001b[0;34m.\u001b[0m\u001b[0mfollowers_count\u001b[0m\u001b[0;34m)\u001b[0m\u001b[0;34m\u001b[0m\u001b[0;34m\u001b[0m\u001b[0m\n\u001b[1;32m     42\u001b[0m \u001b[0;34m\u001b[0m\u001b[0m\n",
      "\u001b[0;32m~/opt/anaconda3/lib/python3.8/site-packages/tweepy/api.py\u001b[0m in \u001b[0;36mwrapper\u001b[0;34m(*args, **kwargs)\u001b[0m\n\u001b[1;32m     44\u001b[0m             \u001b[0mkwargs\u001b[0m\u001b[0;34m[\u001b[0m\u001b[0;34m'payload_list'\u001b[0m\u001b[0;34m]\u001b[0m \u001b[0;34m=\u001b[0m \u001b[0mpayload_list\u001b[0m\u001b[0;34m\u001b[0m\u001b[0;34m\u001b[0m\u001b[0m\n\u001b[1;32m     45\u001b[0m             \u001b[0mkwargs\u001b[0m\u001b[0;34m[\u001b[0m\u001b[0;34m'payload_type'\u001b[0m\u001b[0;34m]\u001b[0m \u001b[0;34m=\u001b[0m \u001b[0mpayload_type\u001b[0m\u001b[0;34m\u001b[0m\u001b[0;34m\u001b[0m\u001b[0m\n\u001b[0;32m---> 46\u001b[0;31m             \u001b[0;32mreturn\u001b[0m \u001b[0mmethod\u001b[0m\u001b[0;34m(\u001b[0m\u001b[0;34m*\u001b[0m\u001b[0margs\u001b[0m\u001b[0;34m,\u001b[0m \u001b[0;34m**\u001b[0m\u001b[0mkwargs\u001b[0m\u001b[0;34m)\u001b[0m\u001b[0;34m\u001b[0m\u001b[0;34m\u001b[0m\u001b[0m\n\u001b[0m\u001b[1;32m     47\u001b[0m         \u001b[0mwrapper\u001b[0m\u001b[0;34m.\u001b[0m\u001b[0mpayload_list\u001b[0m \u001b[0;34m=\u001b[0m \u001b[0mpayload_list\u001b[0m\u001b[0;34m\u001b[0m\u001b[0;34m\u001b[0m\u001b[0m\n\u001b[1;32m     48\u001b[0m         \u001b[0mwrapper\u001b[0m\u001b[0;34m.\u001b[0m\u001b[0mpayload_type\u001b[0m \u001b[0;34m=\u001b[0m \u001b[0mpayload_type\u001b[0m\u001b[0;34m\u001b[0m\u001b[0;34m\u001b[0m\u001b[0m\n",
      "\u001b[0;31mTypeError\u001b[0m: get_user() takes 1 positional argument but 2 were given"
     ]
    }
   ],
   "source": [
    "# Sample query\n",
    "screen_name_list = ['@Bitcoin', '@ethereum', '@LTCFoundation', '@Algorand', '@Cardano', '@Tether_to', '@Ripple', '@cosmos', '@Polkadot', '@dogecoin']\n",
    "num_tweets = 10\n",
    "\n",
    "test_df = scrape_user_tweets(screen_name_list, num_tweets)\n",
    "print(test_df.shape)\n",
    "print(test_df.user_name.value_counts())\n",
    "test_df.head(50)"
   ]
  },
  {
   "cell_type": "code",
   "execution_count": null,
   "metadata": {
    "colab": {
     "base_uri": "https://localhost:8080/"
    },
    "executionInfo": {
     "elapsed": 18212,
     "status": "ok",
     "timestamp": 1614117217685,
     "user": {
      "displayName": "Aman Sharma",
      "photoUrl": "",
      "userId": "18377318723544334436"
     },
     "user_tz": 300
    },
    "id": "VcmDe-Bh4FPO",
    "outputId": "06a2ff19-d8c3-492a-b1a7-cdadcbd35dac"
   },
   "outputs": [
    {
     "data": {
      "text/plain": [
       "array(['Bitcoin', 'ethereum', 'litecoin', 'Algorand', 'Cardano',\n",
       "       'Tether_to', 'Ripple', 'cosmos', 'Polkadot', 'dogecoin'],\n",
       "      dtype=object)"
      ]
     },
     "execution_count": 93,
     "metadata": {
      "tags": []
     },
     "output_type": "execute_result"
    }
   ],
   "source": [
    "test_df.user_name.unique()"
   ]
  },
  {
   "cell_type": "code",
   "execution_count": null,
   "metadata": {
    "id": "ZfsH3jv_cair"
   },
   "outputs": [],
   "source": []
  }
 ],
 "metadata": {
  "colab": {
   "collapsed_sections": [],
   "name": "twitter_scraper.ipynb",
   "provenance": []
  },
  "kernelspec": {
   "display_name": "Python 3",
   "language": "python",
   "name": "python3"
  },
  "language_info": {
   "codemirror_mode": {
    "name": "ipython",
    "version": 3
   },
   "file_extension": ".py",
   "mimetype": "text/x-python",
   "name": "python",
   "nbconvert_exporter": "python",
   "pygments_lexer": "ipython3",
   "version": "3.8.3"
  }
 },
 "nbformat": 4,
 "nbformat_minor": 1
}
