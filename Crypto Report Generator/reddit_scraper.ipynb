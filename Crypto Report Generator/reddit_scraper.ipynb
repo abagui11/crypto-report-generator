{
 "cells": [
  {
   "cell_type": "markdown",
   "metadata": {
    "id": "fKO5YhwVu2Tf"
   },
   "source": [
    "# **Reddit Scraper**"
   ]
  },
  {
   "cell_type": "code",
   "execution_count": 1,
   "metadata": {
    "colab": {
     "base_uri": "https://localhost:8080/"
    },
    "executionInfo": {
     "elapsed": 6209,
     "status": "ok",
     "timestamp": 1614461418181,
     "user": {
      "displayName": "Aman Sharma",
      "photoUrl": "",
      "userId": "18377318723544334436"
     },
     "user_tz": 300
    },
    "id": "DZMhj_urZgL0",
    "outputId": "3d032de9-53ab-457b-f708-da09ede8cbb1",
    "scrolled": true
   },
   "outputs": [
    {
     "name": "stdout",
     "output_type": "stream",
     "text": [
      "Requirement already satisfied: praw in /Users/ArpanBagui/opt/anaconda3/lib/python3.8/site-packages (7.4.0)\n",
      "Requirement already satisfied: websocket-client>=0.54.0 in /Users/ArpanBagui/opt/anaconda3/lib/python3.8/site-packages (from praw) (1.2.1)\n",
      "Requirement already satisfied: prawcore<3,>=2.1 in /Users/ArpanBagui/opt/anaconda3/lib/python3.8/site-packages (from praw) (2.3.0)\n",
      "Requirement already satisfied: update-checker>=0.18 in /Users/ArpanBagui/opt/anaconda3/lib/python3.8/site-packages (from praw) (0.18.0)\n",
      "Requirement already satisfied: requests<3.0,>=2.6.0 in /Users/ArpanBagui/opt/anaconda3/lib/python3.8/site-packages (from prawcore<3,>=2.1->praw) (2.24.0)\n",
      "Requirement already satisfied: urllib3!=1.25.0,!=1.25.1,<1.26,>=1.21.1 in /Users/ArpanBagui/opt/anaconda3/lib/python3.8/site-packages (from requests<3.0,>=2.6.0->prawcore<3,>=2.1->praw) (1.25.9)\n",
      "Requirement already satisfied: certifi>=2017.4.17 in /Users/ArpanBagui/opt/anaconda3/lib/python3.8/site-packages (from requests<3.0,>=2.6.0->prawcore<3,>=2.1->praw) (2020.6.20)\n",
      "Requirement already satisfied: chardet<4,>=3.0.2 in /Users/ArpanBagui/opt/anaconda3/lib/python3.8/site-packages (from requests<3.0,>=2.6.0->prawcore<3,>=2.1->praw) (3.0.4)\n",
      "Requirement already satisfied: idna<3,>=2.5 in /Users/ArpanBagui/opt/anaconda3/lib/python3.8/site-packages (from requests<3.0,>=2.6.0->prawcore<3,>=2.1->praw) (2.10)\n"
     ]
    }
   ],
   "source": [
    "!pip install praw"
   ]
  },
  {
   "cell_type": "code",
   "execution_count": 40,
   "metadata": {
    "id": "IuhuiKCZuLHg"
   },
   "outputs": [],
   "source": [
    "# Import packages\n",
    "import praw\n",
    "import psaw\n",
    "import pandas as pd\n",
    "import numpy as np\n",
    "import datetime as dt\n",
    "from textblob import TextBlob"
   ]
  },
  {
   "cell_type": "code",
   "execution_count": 8,
   "metadata": {},
   "outputs": [],
   "source": [
    "pd.set_option('max_colwidth', 500)\n",
    "pd.set_option('max_columns', 50)"
   ]
  },
  {
   "cell_type": "code",
   "execution_count": 65,
   "metadata": {
    "colab": {
     "base_uri": "https://localhost:8080/",
     "height": 130
    },
    "executionInfo": {
     "elapsed": 963,
     "status": "error",
     "timestamp": 1614463449564,
     "user": {
      "displayName": "Aman Sharma",
      "photoUrl": "",
      "userId": "18377318723544334436"
     },
     "user_tz": 300
    },
    "id": "uWU4vze2LaJV",
    "outputId": "8daecfec-c3fc-4771-9a76-f435f65412b7"
   },
   "outputs": [],
   "source": [
    "# Access Reddit API \n",
    "reddit = praw.Reddit(client_id= \"ibh9FWjQqVYZYw\",                      # your client id\n",
    "                     client_secret= \"VeGeOHgpCN9SVSDsClpaR_IRWsCfiA\",  # your client secret\n",
    "                     user_agent= \"reddit_scraper\",                     # user agent (app) name\n",
    "                     username = \"asharm2949\",                          # your reddit username asharm2949\n",
    "                     password = \"aman-sharma2949\",                     # your reddit password\n",
    "                     check_for_async=False)               \n",
    "\n",
    "# Subreddit name and queries list to srape\n",
    "scrape_dict = {\n",
    "                'CryptoCurrency': ['GameFi', 'P2E'],\n",
    "                'CryptoMarkets': ['GameFi', 'P2E'],\n",
    "                'CryptoCurrencies': ['GameFi', 'P2E'],\n",
    "                'AxieInfinity': ['GameFi', 'P2E'],\n",
    "                'DefiKingdoms': ['GameFi', 'P2E'],\n",
    "            \n",
    "}\n",
    "\n",
    "scrape_list = ['AxieInfinity', 'DefiKingdoms', 'NFT']\n",
    "\n",
    "# Helper function \n",
    "def get_date(created):\n",
    "    return dt.datetime.fromtimestamp(created)"
   ]
  },
  {
   "cell_type": "code",
   "execution_count": 84,
   "metadata": {
    "id": "KWcFnxQ_LGu5"
   },
   "outputs": [],
   "source": [
    "def scrape_reddit(scrape_dict):\n",
    "  \n",
    "  # Post data dictionary\n",
    "  post_dict = {\n",
    "      \"timestamp_scrape\" : [],  # timestamp of the scrape\n",
    "      \"date_scrape\" : [],       # date of the scrape    \n",
    "      \"timestamp_post\" : [],    # timestamp of the post\n",
    "      \"subreddit\": [],          # subreddit of the post\n",
    "      \"query\": [],              # requested query \n",
    "      \"sort_type\": [],          # requested reddit sort type  \n",
    "      \"id\" : [],                # unique id of the post\n",
    "      \"title\" : [],             # title of the post\n",
    "      \"url\" : [],               # url of the post\n",
    "      \"body\" : [],              # the descriptionof post\n",
    "      \"score\" : [],             # number of upvotes of the post\n",
    "      \"upvote_ratio\": [],       # ratio of upvotes to total votes\n",
    "      \"num_comms\": [],          # the number of comments on the post\n",
    "  }\n",
    "\n",
    "  # Type of posts to scrape\n",
    "  sort_list = ['new']\n",
    "\n",
    "  # Scrape data \n",
    "  for key, value in scrape_dict.items():\n",
    "    subreddit = reddit.subreddit(key)   \n",
    "\n",
    "    for query in value:\n",
    "        \n",
    "      for sort in sort_list:\n",
    "\n",
    "        for submission in subreddit.search(query, sort = sort, limit = 10000):\n",
    "          post_dict['timestamp_scrape'].append(pd.to_datetime(\"now\"))\n",
    "          post_dict['date_scrape'].append(dt.date.today())\n",
    "          post_dict[\"timestamp_post\"].append(submission.created_utc)\n",
    "          post_dict[\"subreddit\"].append(submission.subreddit)\n",
    "          post_dict[\"query\"].append(query)\n",
    "          post_dict[\"sort_type\"].append(sort)\n",
    "          post_dict[\"id\"].append(submission.id)\n",
    "          post_dict[\"title\"].append(submission.title)\n",
    "          post_dict[\"url\"].append(submission.url)\n",
    "          post_dict[\"body\"].append(submission.selftext)\n",
    "          post_dict[\"score\"].append(submission.score)\n",
    "          post_dict[\"upvote_ratio\"].append(submission.upvote_ratio)           \n",
    "          post_dict[\"num_comms\"].append(submission.num_comments)\n",
    "\n",
    "\n",
    "  reddit_data = pd.DataFrame(post_dict)\n",
    "  reddit_data['timestamp_post'] = reddit_data[\"timestamp_post\"].apply(get_date)\n",
    "  reddit_data.drop_duplicates(subset = ['date_scrape', 'timestamp_post', 'subreddit', 'sort_type', 'id', 'title', 'url', 'body', 'score', 'upvote_ratio', 'num_comms'])\n",
    "\n",
    "  return reddit_data\n"
   ]
  },
  {
   "cell_type": "code",
   "execution_count": 85,
   "metadata": {
    "id": "sAzDNYBUg0nT"
   },
   "outputs": [],
   "source": [
    "def scrape_reddit_mass(scrape_list):\n",
    "  \n",
    "  # Post data dictionary\n",
    "  post_dict = {\n",
    "      \"timestamp_scrape\" : [],  # timestamp of the scrape\n",
    "      \"date_scrape\" : [],       # date of the scrape    \n",
    "      \"timestamp_post\" : [],    # timestamp of the post\n",
    "      \"subreddit\": [],          # subreddit of the post\n",
    "      \"id\" : [],                # unique id of the post\n",
    "      \"title\" : [],             # title of the post\n",
    "      \"url\" : [],               # url of the post\n",
    "      \"body\" : [],              # the descriptionof post\n",
    "      \"score\" : [],             # number of upvotes of the post\n",
    "      \"upvote_ratio\": [],       # ratio of upvotes to total votes\n",
    "      \"num_comms\": [],          # the number of comments on the post\n",
    "  }\n",
    "\n",
    "  for subreddit in scrape_list:\n",
    "    posts = reddit.subreddit(str(subreddit)).hot(limit=5000)\n",
    "    \n",
    "    for post in posts:\n",
    "      post_dict['timestamp_scrape'].append(pd.to_datetime(\"now\"))\n",
    "      post_dict['date_scrape'].append(dt.date.today())\n",
    "      post_dict[\"timestamp_post\"].append(post.created_utc)\n",
    "      post_dict[\"subreddit\"].append(post.subreddit)\n",
    "      post_dict[\"id\"].append(post.id)\n",
    "      post_dict[\"title\"].append(post.title)\n",
    "      post_dict[\"url\"].append(post.url)\n",
    "      post_dict[\"body\"].append(post.selftext)\n",
    "      post_dict[\"score\"].append(post.score)\n",
    "      post_dict[\"upvote_ratio\"].append(post.upvote_ratio)           \n",
    "      post_dict[\"num_comms\"].append(post.num_comments)\n",
    "\n",
    "  reddit_data_mass = pd.DataFrame(post_dict)\n",
    "  reddit_data_mass['timestamp_post'] = reddit_data_mass[\"timestamp_post\"].apply(get_date)\n",
    "\n",
    "  return reddit_data_mass"
   ]
  },
  {
   "cell_type": "code",
   "execution_count": 86,
   "metadata": {
    "colab": {
     "base_uri": "https://localhost:8080/",
     "height": 580
    },
    "executionInfo": {
     "elapsed": 18680,
     "status": "ok",
     "timestamp": 1614463900370,
     "user": {
      "displayName": "Aman Sharma",
      "photoUrl": "",
      "userId": "18377318723544334436"
     },
     "user_tz": 300
    },
    "id": "JahhHShZLPI1",
    "outputId": "9b50b053-c88b-4ef5-f6d7-2c1f4185a97d"
   },
   "outputs": [
    {
     "name": "stdout",
     "output_type": "stream",
     "text": [
      "(897, 13)\n"
     ]
    }
   ],
   "source": [
    "test = scrape_reddit(scrape_dict)\n",
    "print(test.shape)\n",
    "# sample_scrape = scrape_reddit(scrape_dict)\n",
    "# print(sample_scrape.shape)\n",
    "# sample_scrape.head(5)"
   ]
  },
  {
   "cell_type": "code",
   "execution_count": 87,
   "metadata": {},
   "outputs": [
    {
     "data": {
      "text/html": [
       "<div>\n",
       "<style scoped>\n",
       "    .dataframe tbody tr th:only-of-type {\n",
       "        vertical-align: middle;\n",
       "    }\n",
       "\n",
       "    .dataframe tbody tr th {\n",
       "        vertical-align: top;\n",
       "    }\n",
       "\n",
       "    .dataframe thead th {\n",
       "        text-align: right;\n",
       "    }\n",
       "</style>\n",
       "<table border=\"1\" class=\"dataframe\">\n",
       "  <thead>\n",
       "    <tr style=\"text-align: right;\">\n",
       "      <th></th>\n",
       "      <th>timestamp_scrape</th>\n",
       "      <th>date_scrape</th>\n",
       "      <th>timestamp_post</th>\n",
       "      <th>subreddit</th>\n",
       "      <th>query</th>\n",
       "      <th>sort_type</th>\n",
       "      <th>id</th>\n",
       "      <th>title</th>\n",
       "      <th>url</th>\n",
       "      <th>body</th>\n",
       "      <th>score</th>\n",
       "      <th>upvote_ratio</th>\n",
       "      <th>num_comms</th>\n",
       "    </tr>\n",
       "  </thead>\n",
       "  <tbody>\n",
       "    <tr>\n",
       "      <th>887</th>\n",
       "      <td>2022-12-06 13:08:37.455546</td>\n",
       "      <td>2022-12-06</td>\n",
       "      <td>2022-01-18 15:54:55</td>\n",
       "      <td>DefiKingdoms</td>\n",
       "      <td>P2E</td>\n",
       "      <td>new</td>\n",
       "      <td>s77ma5</td>\n",
       "      <td>Some help for a fellow crypto enthusiast?</td>\n",
       "      <td>https://www.reddit.com/r/DefiKingdoms/comments/s77ma5/some_help_for_a_fellow_crypto_enthusiast/</td>\n",
       "      <td>Hello everyone,\\n\\nI'm a Brazilian young man that has been growing much interest with the crypto world (blockchains, p2e, NFT...). I've known about cryptocurrencies from a long time, but hasn't been much interested before cause I always found it to be much of a speculative area to do any major investment. However, with the recently mixture of games with crypto I believe we all have a more tangible approach on that speculation. We're now able to judge many aspects of a game and it's respectiv...</td>\n",
       "      <td>5</td>\n",
       "      <td>0.78</td>\n",
       "      <td>14</td>\n",
       "    </tr>\n",
       "    <tr>\n",
       "      <th>888</th>\n",
       "      <td>2022-12-06 13:08:37.456056</td>\n",
       "      <td>2022-12-06</td>\n",
       "      <td>2022-01-04 16:48:23</td>\n",
       "      <td>DefiKingdoms</td>\n",
       "      <td>P2E</td>\n",
       "      <td>new</td>\n",
       "      <td>rw5pah</td>\n",
       "      <td>Beginner's guide to buying the first hero</td>\n",
       "      <td>https://www.reddit.com/r/DefiKingdoms/comments/rw5pah/beginners_guide_to_buying_the_first_hero/</td>\n",
       "      <td>Ofc, none of this is financial advice.\\n\\nDisclaimer: this guide assumes that you know the basics of working with a DEX (yield farming, providing liquidity, impermanent loss).\\n\\n&amp;#x200B;\\n\\n**Who am I?**\\n\\nI am a self proclaimed disciple of Taiki Maeda and first learned about DFK through his discord group. I was lucky enough to ape in during Gen 0 minting and have been participating in the hero/gaming side of DFK since then. Now I run a small private community/DAO dedicated to DFK. \\n\\n**W...</td>\n",
       "      <td>202</td>\n",
       "      <td>1.00</td>\n",
       "      <td>75</td>\n",
       "    </tr>\n",
       "    <tr>\n",
       "      <th>889</th>\n",
       "      <td>2022-12-06 13:08:37.456547</td>\n",
       "      <td>2022-12-06</td>\n",
       "      <td>2021-12-28 16:23:26</td>\n",
       "      <td>DefiKingdoms</td>\n",
       "      <td>P2E</td>\n",
       "      <td>new</td>\n",
       "      <td>rqq32k</td>\n",
       "      <td>Barrier to entry and Avax</td>\n",
       "      <td>https://www.reddit.com/r/DefiKingdoms/comments/rqq32k/barrier_to_entry_and_avax/</td>\n",
       "      <td>I’ve been playing DFK for about 6 weeks now and I totally love it! I think the p2e is getting better day by day. I have 2 important questions though.\\n\\n1. The barrier of entry gets higher each day. 6 weeks ago the cheapest hero was about 200$, now it’s 500$. A lot of new players won’t enter the game with this amount knowing they will also get the worst hero possible. Possible solution: give a free hero linked to a wallet address which gives very limited rewards but let’s people experience t...</td>\n",
       "      <td>9</td>\n",
       "      <td>0.76</td>\n",
       "      <td>11</td>\n",
       "    </tr>\n",
       "    <tr>\n",
       "      <th>890</th>\n",
       "      <td>2022-12-06 13:08:37.456989</td>\n",
       "      <td>2022-12-06</td>\n",
       "      <td>2021-12-21 12:40:15</td>\n",
       "      <td>DefiKingdoms</td>\n",
       "      <td>P2E</td>\n",
       "      <td>new</td>\n",
       "      <td>rljuep</td>\n",
       "      <td>Proposal: a free non-NFT/non-tradable hero for all</td>\n",
       "      <td>https://www.reddit.com/r/DefiKingdoms/comments/rljuep/proposal_a_free_nonnftnontradable_hero_for_all/</td>\n",
       "      <td>Goal of this post: Create a discussion about a solution to the barrier entry cost.\\n\\n\\nGoal of this proposal: Lower the barrier cost of playing DFK to allow essentially anyone to play the game.\\n\\nProposal: Everyone, current and future players will receive a non-NFT, non-tradable hero to start off with. This starting hero will be limited in many ways, as to deter players from not taking advantage of this free hero, but also to bring in new players whether they want to try out the game or is...</td>\n",
       "      <td>35</td>\n",
       "      <td>0.76</td>\n",
       "      <td>43</td>\n",
       "    </tr>\n",
       "    <tr>\n",
       "      <th>891</th>\n",
       "      <td>2022-12-06 13:08:37.457264</td>\n",
       "      <td>2022-12-06</td>\n",
       "      <td>2021-12-12 18:39:01</td>\n",
       "      <td>DefiKingdoms</td>\n",
       "      <td>P2E</td>\n",
       "      <td>new</td>\n",
       "      <td>rf1gup</td>\n",
       "      <td>Why shouldn't you provide liquidity to DFK?</td>\n",
       "      <td>https://www.reddit.com/r/DefiKingdoms/comments/rf1gup/why_shouldnt_you_provide_liquidity_to_dfk/</td>\n",
       "      <td>As it stands, I currently do not see any drawbacks to putting a good portion, if not all, of my BTC and ETH into a DFK LP. Particularly, the BTC/ETH pool. Even though its APR is the lowest, the risk is lower than the others.  If one currency rises, I receive the other to keep the 1:1 ratio. I'm happy with both. Whereas, if I provide liquidity to the Jewel/ETH pool and jewel dumps, I lose my ETH.\\n\\nI'm curious to know what the all-together risk is with this play. Can DFK get hacked? If so, w...</td>\n",
       "      <td>17</td>\n",
       "      <td>0.91</td>\n",
       "      <td>26</td>\n",
       "    </tr>\n",
       "    <tr>\n",
       "      <th>892</th>\n",
       "      <td>2022-12-06 13:08:37.457498</td>\n",
       "      <td>2022-12-06</td>\n",
       "      <td>2021-12-01 02:24:09</td>\n",
       "      <td>DefiKingdoms</td>\n",
       "      <td>P2E</td>\n",
       "      <td>new</td>\n",
       "      <td>r69561</td>\n",
       "      <td>👑 DeFi Kingdoms Quests Live to Production 👑</td>\n",
       "      <td>https://www.reddit.com/r/DefiKingdoms/comments/r69561/defi_kingdoms_quests_live_to_production/</td>\n",
       "      <td>👑 DeFi Kingdoms Quests Live to Production 👑\\n\\nGo to our professions area to visit Fisher Tom or Woodsman Aurum who can guide your heroes to rewards and new in-game items!\\n\\n&amp;#x200B;\\n\\n✅Fishing 🎣\\n\\n✅Foraging 🌿\\n\\n&amp;#x200B;\\n\\n⚔️👑Zada's shop will be opening soon where you can trade your rewards for gold. The Alchemist will also be joining us soon where you will be able to craft your rewards into other items. 👑⚔️\\n\\nsource: [https://twitter.com/DefiKingdoms/status/1465517792933953536](https:...</td>\n",
       "      <td>26</td>\n",
       "      <td>0.97</td>\n",
       "      <td>6</td>\n",
       "    </tr>\n",
       "    <tr>\n",
       "      <th>893</th>\n",
       "      <td>2022-12-06 13:08:37.457704</td>\n",
       "      <td>2022-12-06</td>\n",
       "      <td>2021-11-15 07:00:36</td>\n",
       "      <td>DefiKingdoms</td>\n",
       "      <td>P2E</td>\n",
       "      <td>new</td>\n",
       "      <td>queuxs</td>\n",
       "      <td>What is a good investment amount in DFK?</td>\n",
       "      <td>https://www.reddit.com/r/DefiKingdoms/comments/queuxs/what_is_a_good_investment_amount_in_dfk/</td>\n",
       "      <td>I very much like the game and I think it has potential to grow more and more in the future.\\n\\nI have already invested few $$ just to try out the system and the game.\\n\\nNow I'm thinking what is a good price to get you started in the game ? What do you think is the minimum investment you should have in DFK to actually start progress in the game and maybe have some profit ?\\n\\nFor normal games you buy (invest in) the game for around 60$ in most cases, and maybe later on you decide to spend mo...</td>\n",
       "      <td>28</td>\n",
       "      <td>0.94</td>\n",
       "      <td>46</td>\n",
       "    </tr>\n",
       "    <tr>\n",
       "      <th>894</th>\n",
       "      <td>2022-12-06 13:08:37.457902</td>\n",
       "      <td>2022-12-06</td>\n",
       "      <td>2021-10-21 01:06:33</td>\n",
       "      <td>DefiKingdoms</td>\n",
       "      <td>P2E</td>\n",
       "      <td>new</td>\n",
       "      <td>qck5dq</td>\n",
       "      <td>DeFi Kingdoms: Weekly Newsletter #3</td>\n",
       "      <td>https://www.reddit.com/r/DefiKingdoms/comments/qck5dq/defi_kingdoms_weekly_newsletter_3/</td>\n",
       "      <td>Well, time certainly flies.\\n\\nIt’s crazy to think that we just passed $100M TVL last week. Now, we are well over $150M TVL and have a lot of exciting things in the works. Cross-chain plans, more partnerships, community contests… The list goes on and on.\\n\\nLet’s get straight to it!\\n\\n**Table of Contents**\\n\\n* [$150M+ TVL Reached](https://defikingdoms.medium.com/defi-kingdoms-weekly-newsletter-3-88668f4ace23#0262)\\n* [FTM Alerts AMA](https://defikingdoms.medium.com/defi-kingdoms-weekly-new...</td>\n",
       "      <td>3</td>\n",
       "      <td>0.81</td>\n",
       "      <td>1</td>\n",
       "    </tr>\n",
       "    <tr>\n",
       "      <th>895</th>\n",
       "      <td>2022-12-06 13:08:37.458122</td>\n",
       "      <td>2022-12-06</td>\n",
       "      <td>2021-10-19 12:55:35</td>\n",
       "      <td>DefiKingdoms</td>\n",
       "      <td>P2E</td>\n",
       "      <td>new</td>\n",
       "      <td>qbfoxy</td>\n",
       "      <td>Team AMA with FTM Alerts (10/19)</td>\n",
       "      <td>https://www.reddit.com/r/DefiKingdoms/comments/qbfoxy/team_ama_with_ftm_alerts_1019/</td>\n",
       "      <td>On October 19, the DFK team did a [live AMA on YouTube with FTM Alerts](https://www.youtube.com/g85dbqKC9r0). Participants included Austin (@FTMAlerts), Sinstar, Dreamer, Jericho \\[internet dropped halfway through\\], and Flu, who appeared on camera for the first time with an awesome hat.\\n\\n[Flu face reveal!](https://preview.redd.it/b85rvjdglfu71.png?width=1838&amp;format=png&amp;auto=webp&amp;s=a5599d2672e06b35e970cfc2451957eebd794cb7)\\n\\nHere's a rough summary of the AMA:\\n\\n**Austin:** Accidentally r...</td>\n",
       "      <td>20</td>\n",
       "      <td>0.96</td>\n",
       "      <td>1</td>\n",
       "    </tr>\n",
       "    <tr>\n",
       "      <th>896</th>\n",
       "      <td>2022-12-06 13:08:37.458323</td>\n",
       "      <td>2022-12-06</td>\n",
       "      <td>2021-10-14 00:26:27</td>\n",
       "      <td>DefiKingdoms</td>\n",
       "      <td>P2E</td>\n",
       "      <td>new</td>\n",
       "      <td>q7sbx0</td>\n",
       "      <td>[AMA] DFK &amp; FTMAlerts Live - Oct 19th 2021</td>\n",
       "      <td>https://www.reddit.com/r/DefiKingdoms/comments/q7sbx0/ama_dfk_ftmalerts_live_oct_19th_2021/</td>\n",
       "      <td>Hi Everyone,\\n\\nOur DFK team will be attending an AMA with host\\n\\n[@FTMAlerts](https://twitter.com/FTMAlerts)\\n\\nHappening in 5 Days! Oct 19th @ 11AM EST Be sure to tune in at the link below!\\n\\n[https://www.youtube.com/watch?v=g85dbqKC9r0&amp;ab\\_channel=FTMAlerts](https://www.youtube.com/watch?v=g85dbqKC9r0&amp;ab_channel=FTMAlerts)\\n\\nsource: [https://twitter.com/DefiKingdoms/status/1448347935805169665](https://twitter.com/DefiKingdoms/status/1448347935805169665)\\n\\n[#defikingdoms](https://twitt...</td>\n",
       "      <td>12</td>\n",
       "      <td>0.94</td>\n",
       "      <td>3</td>\n",
       "    </tr>\n",
       "  </tbody>\n",
       "</table>\n",
       "</div>"
      ],
      "text/plain": [
       "              timestamp_scrape date_scrape      timestamp_post     subreddit  \\\n",
       "887 2022-12-06 13:08:37.455546  2022-12-06 2022-01-18 15:54:55  DefiKingdoms   \n",
       "888 2022-12-06 13:08:37.456056  2022-12-06 2022-01-04 16:48:23  DefiKingdoms   \n",
       "889 2022-12-06 13:08:37.456547  2022-12-06 2021-12-28 16:23:26  DefiKingdoms   \n",
       "890 2022-12-06 13:08:37.456989  2022-12-06 2021-12-21 12:40:15  DefiKingdoms   \n",
       "891 2022-12-06 13:08:37.457264  2022-12-06 2021-12-12 18:39:01  DefiKingdoms   \n",
       "892 2022-12-06 13:08:37.457498  2022-12-06 2021-12-01 02:24:09  DefiKingdoms   \n",
       "893 2022-12-06 13:08:37.457704  2022-12-06 2021-11-15 07:00:36  DefiKingdoms   \n",
       "894 2022-12-06 13:08:37.457902  2022-12-06 2021-10-21 01:06:33  DefiKingdoms   \n",
       "895 2022-12-06 13:08:37.458122  2022-12-06 2021-10-19 12:55:35  DefiKingdoms   \n",
       "896 2022-12-06 13:08:37.458323  2022-12-06 2021-10-14 00:26:27  DefiKingdoms   \n",
       "\n",
       "    query sort_type      id  \\\n",
       "887   P2E       new  s77ma5   \n",
       "888   P2E       new  rw5pah   \n",
       "889   P2E       new  rqq32k   \n",
       "890   P2E       new  rljuep   \n",
       "891   P2E       new  rf1gup   \n",
       "892   P2E       new  r69561   \n",
       "893   P2E       new  queuxs   \n",
       "894   P2E       new  qck5dq   \n",
       "895   P2E       new  qbfoxy   \n",
       "896   P2E       new  q7sbx0   \n",
       "\n",
       "                                                  title  \\\n",
       "887           Some help for a fellow crypto enthusiast?   \n",
       "888           Beginner's guide to buying the first hero   \n",
       "889                           Barrier to entry and Avax   \n",
       "890  Proposal: a free non-NFT/non-tradable hero for all   \n",
       "891         Why shouldn't you provide liquidity to DFK?   \n",
       "892         👑 DeFi Kingdoms Quests Live to Production 👑   \n",
       "893            What is a good investment amount in DFK?   \n",
       "894                 DeFi Kingdoms: Weekly Newsletter #3   \n",
       "895                    Team AMA with FTM Alerts (10/19)   \n",
       "896          [AMA] DFK & FTMAlerts Live - Oct 19th 2021   \n",
       "\n",
       "                                                                                                       url  \\\n",
       "887        https://www.reddit.com/r/DefiKingdoms/comments/s77ma5/some_help_for_a_fellow_crypto_enthusiast/   \n",
       "888        https://www.reddit.com/r/DefiKingdoms/comments/rw5pah/beginners_guide_to_buying_the_first_hero/   \n",
       "889                       https://www.reddit.com/r/DefiKingdoms/comments/rqq32k/barrier_to_entry_and_avax/   \n",
       "890  https://www.reddit.com/r/DefiKingdoms/comments/rljuep/proposal_a_free_nonnftnontradable_hero_for_all/   \n",
       "891       https://www.reddit.com/r/DefiKingdoms/comments/rf1gup/why_shouldnt_you_provide_liquidity_to_dfk/   \n",
       "892         https://www.reddit.com/r/DefiKingdoms/comments/r69561/defi_kingdoms_quests_live_to_production/   \n",
       "893         https://www.reddit.com/r/DefiKingdoms/comments/queuxs/what_is_a_good_investment_amount_in_dfk/   \n",
       "894               https://www.reddit.com/r/DefiKingdoms/comments/qck5dq/defi_kingdoms_weekly_newsletter_3/   \n",
       "895                   https://www.reddit.com/r/DefiKingdoms/comments/qbfoxy/team_ama_with_ftm_alerts_1019/   \n",
       "896            https://www.reddit.com/r/DefiKingdoms/comments/q7sbx0/ama_dfk_ftmalerts_live_oct_19th_2021/   \n",
       "\n",
       "                                                                                                                                                                                                                                                                                                                                                                                                                                                                                                                    body  \\\n",
       "887  Hello everyone,\\n\\nI'm a Brazilian young man that has been growing much interest with the crypto world (blockchains, p2e, NFT...). I've known about cryptocurrencies from a long time, but hasn't been much interested before cause I always found it to be much of a speculative area to do any major investment. However, with the recently mixture of games with crypto I believe we all have a more tangible approach on that speculation. We're now able to judge many aspects of a game and it's respectiv...   \n",
       "888  Ofc, none of this is financial advice.\\n\\nDisclaimer: this guide assumes that you know the basics of working with a DEX (yield farming, providing liquidity, impermanent loss).\\n\\n&#x200B;\\n\\n**Who am I?**\\n\\nI am a self proclaimed disciple of Taiki Maeda and first learned about DFK through his discord group. I was lucky enough to ape in during Gen 0 minting and have been participating in the hero/gaming side of DFK since then. Now I run a small private community/DAO dedicated to DFK. \\n\\n**W...   \n",
       "889  I’ve been playing DFK for about 6 weeks now and I totally love it! I think the p2e is getting better day by day. I have 2 important questions though.\\n\\n1. The barrier of entry gets higher each day. 6 weeks ago the cheapest hero was about 200$, now it’s 500$. A lot of new players won’t enter the game with this amount knowing they will also get the worst hero possible. Possible solution: give a free hero linked to a wallet address which gives very limited rewards but let’s people experience t...   \n",
       "890  Goal of this post: Create a discussion about a solution to the barrier entry cost.\\n\\n\\nGoal of this proposal: Lower the barrier cost of playing DFK to allow essentially anyone to play the game.\\n\\nProposal: Everyone, current and future players will receive a non-NFT, non-tradable hero to start off with. This starting hero will be limited in many ways, as to deter players from not taking advantage of this free hero, but also to bring in new players whether they want to try out the game or is...   \n",
       "891  As it stands, I currently do not see any drawbacks to putting a good portion, if not all, of my BTC and ETH into a DFK LP. Particularly, the BTC/ETH pool. Even though its APR is the lowest, the risk is lower than the others.  If one currency rises, I receive the other to keep the 1:1 ratio. I'm happy with both. Whereas, if I provide liquidity to the Jewel/ETH pool and jewel dumps, I lose my ETH.\\n\\nI'm curious to know what the all-together risk is with this play. Can DFK get hacked? If so, w...   \n",
       "892  👑 DeFi Kingdoms Quests Live to Production 👑\\n\\nGo to our professions area to visit Fisher Tom or Woodsman Aurum who can guide your heroes to rewards and new in-game items!\\n\\n&#x200B;\\n\\n✅Fishing 🎣\\n\\n✅Foraging 🌿\\n\\n&#x200B;\\n\\n⚔️👑Zada's shop will be opening soon where you can trade your rewards for gold. The Alchemist will also be joining us soon where you will be able to craft your rewards into other items. 👑⚔️\\n\\nsource: [https://twitter.com/DefiKingdoms/status/1465517792933953536](https:...   \n",
       "893  I very much like the game and I think it has potential to grow more and more in the future.\\n\\nI have already invested few $$ just to try out the system and the game.\\n\\nNow I'm thinking what is a good price to get you started in the game ? What do you think is the minimum investment you should have in DFK to actually start progress in the game and maybe have some profit ?\\n\\nFor normal games you buy (invest in) the game for around 60$ in most cases, and maybe later on you decide to spend mo...   \n",
       "894  Well, time certainly flies.\\n\\nIt’s crazy to think that we just passed $100M TVL last week. Now, we are well over $150M TVL and have a lot of exciting things in the works. Cross-chain plans, more partnerships, community contests… The list goes on and on.\\n\\nLet’s get straight to it!\\n\\n**Table of Contents**\\n\\n* [$150M+ TVL Reached](https://defikingdoms.medium.com/defi-kingdoms-weekly-newsletter-3-88668f4ace23#0262)\\n* [FTM Alerts AMA](https://defikingdoms.medium.com/defi-kingdoms-weekly-new...   \n",
       "895  On October 19, the DFK team did a [live AMA on YouTube with FTM Alerts](https://www.youtube.com/g85dbqKC9r0). Participants included Austin (@FTMAlerts), Sinstar, Dreamer, Jericho \\[internet dropped halfway through\\], and Flu, who appeared on camera for the first time with an awesome hat.\\n\\n[Flu face reveal!](https://preview.redd.it/b85rvjdglfu71.png?width=1838&format=png&auto=webp&s=a5599d2672e06b35e970cfc2451957eebd794cb7)\\n\\nHere's a rough summary of the AMA:\\n\\n**Austin:** Accidentally r...   \n",
       "896  Hi Everyone,\\n\\nOur DFK team will be attending an AMA with host\\n\\n[@FTMAlerts](https://twitter.com/FTMAlerts)\\n\\nHappening in 5 Days! Oct 19th @ 11AM EST Be sure to tune in at the link below!\\n\\n[https://www.youtube.com/watch?v=g85dbqKC9r0&ab\\_channel=FTMAlerts](https://www.youtube.com/watch?v=g85dbqKC9r0&ab_channel=FTMAlerts)\\n\\nsource: [https://twitter.com/DefiKingdoms/status/1448347935805169665](https://twitter.com/DefiKingdoms/status/1448347935805169665)\\n\\n[#defikingdoms](https://twitt...   \n",
       "\n",
       "     score  upvote_ratio  num_comms  \n",
       "887      5          0.78         14  \n",
       "888    202          1.00         75  \n",
       "889      9          0.76         11  \n",
       "890     35          0.76         43  \n",
       "891     17          0.91         26  \n",
       "892     26          0.97          6  \n",
       "893     28          0.94         46  \n",
       "894      3          0.81          1  \n",
       "895     20          0.96          1  \n",
       "896     12          0.94          3  "
      ]
     },
     "execution_count": 87,
     "metadata": {},
     "output_type": "execute_result"
    }
   ],
   "source": [
    "test.tail(10)"
   ]
  },
  {
   "cell_type": "code",
   "execution_count": 76,
   "metadata": {},
   "outputs": [],
   "source": [
    "polarity_arr = []\n",
    "for i in np.arange(0, len(test)):\n",
    "    polarity_arr.append(TextBlob(test['title'][i]).sentiment.polarity)"
   ]
  },
  {
   "cell_type": "code",
   "execution_count": 77,
   "metadata": {},
   "outputs": [
    {
     "data": {
      "text/plain": [
       "0.05283673635837097"
      ]
     },
     "execution_count": 77,
     "metadata": {},
     "output_type": "execute_result"
    }
   ],
   "source": [
    "sum(polarity_arr)/len(polarity_arr)"
   ]
  },
  {
   "cell_type": "code",
   "execution_count": 78,
   "metadata": {
    "id": "J6UrhEWsb0WW"
   },
   "outputs": [],
   "source": [
    "subjectivity_arr = []\n",
    "for i in np.arange(0, len(test)):\n",
    "    subjectivity_arr.append(TextBlob(test['title'][i]).sentiment.subjectivity)"
   ]
  },
  {
   "cell_type": "code",
   "execution_count": 79,
   "metadata": {},
   "outputs": [
    {
     "data": {
      "text/plain": [
       "0.2828962592775503"
      ]
     },
     "execution_count": 79,
     "metadata": {},
     "output_type": "execute_result"
    }
   ],
   "source": [
    "sum(subjectivity_arr)/len(subjectivity_arr)"
   ]
  }
 ],
 "metadata": {
  "colab": {
   "collapsed_sections": [],
   "name": "reddit_scraper.ipynb",
   "provenance": [],
   "toc_visible": true
  },
  "kernelspec": {
   "display_name": "Python 3",
   "language": "python",
   "name": "python3"
  },
  "language_info": {
   "codemirror_mode": {
    "name": "ipython",
    "version": 3
   },
   "file_extension": ".py",
   "mimetype": "text/x-python",
   "name": "python",
   "nbconvert_exporter": "python",
   "pygments_lexer": "ipython3",
   "version": "3.8.3"
  }
 },
 "nbformat": 4,
 "nbformat_minor": 1
}
